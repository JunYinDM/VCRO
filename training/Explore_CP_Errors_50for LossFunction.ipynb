{
 "cells": [
  {
   "cell_type": "code",
   "execution_count": 72,
   "metadata": {},
   "outputs": [],
   "source": [
    "%matplotlib inline\n",
    "import numpy as np\n",
    "import matplotlib as mpl\n",
    "import matplotlib.pyplot as plt\n",
    "from lsst.cwfs.tools import ZernikeEval, ZernikeGrad\n",
    "import matplotlib.colors as colors\n",
    "from decimal import Decimal\n",
    "mpl.rc('image', cmap='jet')"
   ]
  },
  {
   "cell_type": "code",
   "execution_count": 73,
   "metadata": {},
   "outputs": [],
   "source": [
    "x1d = np.linspace(-1,1,201)\n",
    "x, y = np.meshgrid(x1d, x1d)\n",
    "r = np.sqrt(x**2 + y**2)\n",
    "idx = r>1\n",
    "x[idx] = np.nan\n",
    "y[idx] = np.nan\n",
    "r[idx] = np.nan\n",
    "\n",
    "maxCP = 100.\n",
    "numberCP = 10  #+++++++++++++++++++++++++++++++++++++++++++++\n",
    "\n",
    "# Define the array with values of CP\n",
    "CP = np.linspace(10.,maxCP,10)  #+++++++++++++\n"
   ]
  },
  {
   "cell_type": "code",
   "execution_count": 74,
   "metadata": {},
   "outputs": [],
   "source": [
    "def GetZernikes(CP,numberCP):\n",
    "    DOF = np.zeros(10)\n",
    "    Field = 32\n",
    "    DOF[numberCP-1] = CP\n",
    "\n",
    "    dataRead = np.loadtxt('./ZvsCP/senM_35_19_50.txt',comments=\"#\")\n",
    "    dataRead = dataRead.reshape(35,19,50)\n",
    "    Zs = np.zeros(19)         \n",
    "\n",
    "    # Calculate the Zernike amplitudes.\n",
    "    for i in range(0,len(Zs)):\n",
    "        Zs[i] = 0.0\n",
    "        for j in range(0,len(DOF)):\n",
    "            Zs[i] = Zs[i] + DOF[j]*dataRead[Field-1,i,j]\n",
    "    return Zs"
   ]
  },
  {
   "cell_type": "code",
   "execution_count": 77,
   "metadata": {},
   "outputs": [
    {
     "name": "stderr",
     "output_type": "stream",
     "text": [
      "/Users/junyin/anaconda3/lib/python3.7/site-packages/ipykernel_launcher.py:32: RuntimeWarning: invalid value encountered in arccos\n"
     ]
    }
   ],
   "source": [
    "\n",
    "ZCoef = [GetZernikes(i,numberCP) for i in CP]\n",
    "zc = np.zeros([10, 22])\n",
    "\n",
    "for index in range(3,22):\n",
    "    zc[:,index] = [ZCoef[i][index-3] for i in range(0,len(CP))]\n",
    "\n",
    "# Define the wavefront and set it to 0.\n",
    "w = np.zeros([10,201,201])\n",
    "dwdx = np.zeros([10,201,201])\n",
    "dwdy = np.zeros([10,201,201])\n",
    "rmsSpotSize = np.zeros(10)\n",
    "\n",
    "thetaCone = np.zeros(10)\n",
    "thetaDist = w\n",
    "\n",
    "\n",
    "for i in range(10):\n",
    "    w[i,:,:] = ZernikeEval(zc[i,:], x, y)\n",
    "    dwdx[i,:,:] = ZernikeGrad(zc[i,:], x, y, 'dx')\n",
    "    dwdy[i,:,:] = ZernikeGrad(zc[i,:], x, y, 'dy')\n",
    "\n",
    "    xr = dwdx[i,:,:].reshape(-1,1)\n",
    "    yr = dwdy[i,:,:].reshape(-1,1)\n",
    "\n",
    "    idx = ~np.isnan(xr)\n",
    "    xr = xr[idx]\n",
    "    yr = yr[idx]\n",
    "    rmsSpotSize[i] = np.sqrt(np.sum(xr**2 + yr**2))\n",
    "    \n",
    "    \n",
    "    thetaDist[i,:,:] = 1.0E6*np.arccos(1./np.sqrt((dwdx[i,:,:]*1.2E-7)**2+(dwdy[i,:,:]*1.2E-7)**2+1.))\n",
    "    \n",
    "\n",
    "    xr = dwdx[i,:,:].reshape(-1,1)\n",
    "    yr = dwdy[i,:,:].reshape(-1,1)\n",
    "    idx = ~np.isnan(xr)\n",
    "    xr = xr[idx]\n",
    "    yr = yr[idx]  \n",
    "    \n",
    "    theta = np.arccos(1./np.sqrt((xr*1.2E-7)**2+(yr*1.2E-7)**2+1.))\n",
    "    # Instead, we calculate sin(theta) and the use the approximation that sin(theta) = theta for small angles\n",
    "    theta = np.sqrt((xr*1.2E-7)**2+(yr*1.2E-7)**2)/np.sqrt((xr*1.2E-7)**2+(yr*1.2E-7)**2+1.)    \n",
    "    "
   ]
  },
  {
   "cell_type": "code",
   "execution_count": 78,
   "metadata": {},
   "outputs": [
    {
     "name": "stdout",
     "output_type": "stream",
     "text": [
      "1.1257414656076032\n"
     ]
    }
   ],
   "source": [
    " \n",
    "\n"
   ]
  },
  {
   "cell_type": "code",
   "execution_count": null,
   "metadata": {},
   "outputs": [],
   "source": []
  }
 ],
 "metadata": {
  "kernelspec": {
   "display_name": "Python 3",
   "language": "python",
   "name": "python3"
  },
  "language_info": {
   "codemirror_mode": {
    "name": "ipython",
    "version": 3
   },
   "file_extension": ".py",
   "mimetype": "text/x-python",
   "name": "python",
   "nbconvert_exporter": "python",
   "pygments_lexer": "ipython3",
   "version": "3.7.1"
  }
 },
 "nbformat": 4,
 "nbformat_minor": 2
}
